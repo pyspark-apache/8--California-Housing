{
 "cells": [
  {
   "cell_type": "markdown",
   "id": "c06bcd5b",
   "metadata": {},
   "source": [
    "# Predicting House Prices with Apache Spark"
   ]
  },
  {
   "cell_type": "markdown",
   "id": "1ba46c00",
   "metadata": {},
   "source": [
    "- [1.- Understanding the Data Set](#1) \n",
    "- [2.- Import](#2)\n",
    "- [3.- Creating the Spark Session](#3)\n",
    "- [4.- Load the data from a file into a DataFrame](#4)\n",
    "- [5.- Data Exploration](#5)\n",
    "- [6.- Data Preprocessing](#6)\n",
    "- [7.- Feature Engineering](#7)\n",
    "- [8.- Building A Machine Learning Model With Spark ML](#8)\n",
    "- [9.- Inspect the Model Co-efficients](#9)"
   ]
  },
  {
   "cell_type": "markdown",
   "id": "ec5107e9",
   "metadata": {},
   "source": [
    "# 1\n",
    "### Understanding the Data Set\n",
    "\n",
    "Data set:https://www.dcc.fc.up.pt/~ltorgo/Regression/cal_housing.html\n",
    "\n",
    "These spatial data contain 20,640 observations on housing prices with 9 economic variables:\n",
    "\n",
    "**Longitude:** refers to the angular distance of a geographic place north or south of the earth’s equator for each block group\n",
    "\n",
    "**Latitude:** refers to the angular distance of a geographic place east or west of the earth’s equator for each block group\n",
    "\n",
    "**Housing Median Age:** is the median age of the people that belong to a block group. Note that the median is the value that lies at the midpoint of a frequency distribution of observed values\n",
    "\n",
    "**Total Rooms:** is the total number of rooms in the houses per block group\n",
    "\n",
    "**Total Bedrooms:** is the total number of bedrooms in the houses per block group\n",
    "\n",
    "**Population:** is the number of inhabitants of a block group\n",
    "\n",
    "**Households:** refers to units of houses and their occupants per block group\n",
    "\n",
    "**Median Income:** is used to register the median income of people that belong to a block group\n",
    "\n",
    "**Median House Value:** is the dependent variable and refers to the median house value per block group"
   ]
  },
  {
   "cell_type": "markdown",
   "id": "8dcbadd5",
   "metadata": {},
   "source": [
    "# 2\n",
    "### Import "
   ]
  },
  {
   "cell_type": "code",
   "execution_count": 2,
   "id": "33bf7fca",
   "metadata": {},
   "outputs": [],
   "source": [
    "import os\n",
    "import pandas as pd\n",
    "import numpy as np\n",
    "\n",
    "from pyspark import SparkConf, SparkContext\n",
    "from pyspark.sql import SparkSession, SQLContext\n",
    "\n",
    "from pyspark.sql.types import *\n",
    "import pyspark.sql.functions as F\n",
    "from pyspark.sql.functions import udf, col\n",
    "\n",
    "from pyspark.ml.regression import LinearRegression\n",
    "from pyspark.mllib.evaluation import RegressionMetrics\n",
    "\n",
    "from pyspark.ml.tuning import ParamGridBuilder, CrossValidator, CrossValidatorModel\n",
    "from pyspark.ml.feature import VectorAssembler, StandardScaler\n",
    "from pyspark.ml.evaluation import RegressionEvaluator"
   ]
  },
  {
   "cell_type": "code",
   "execution_count": 3,
   "id": "ad430f1a",
   "metadata": {},
   "outputs": [],
   "source": [
    "import seaborn as sns\n",
    "import matplotlib.pyplot as plt"
   ]
  },
  {
   "cell_type": "code",
   "execution_count": 4,
   "id": "69648ec2",
   "metadata": {},
   "outputs": [],
   "source": [
    "# Visualization\n",
    "from IPython.core.interactiveshell import InteractiveShell\n",
    "InteractiveShell.ast_node_interactivity = \"all\"\n",
    "\n",
    "pd.set_option('display.max_columns', 200)\n",
    "pd.set_option('display.max_colwidth', 400)\n",
    "\n",
    "from matplotlib import rcParams\n",
    "sns.set(context='notebook', style='whitegrid', rc={'figure.figsize': (18,4)})\n",
    "rcParams['figure.figsize'] = 18,4\n",
    "\n",
    "%matplotlib inline\n",
    "%config InlineBackend.figure_format = 'retina'"
   ]
  },
  {
   "cell_type": "code",
   "execution_count": 5,
   "id": "6d3ec3fd",
   "metadata": {},
   "outputs": [],
   "source": [
    "# setting random seed for notebook reproducability\n",
    "rnd_seed=23\n",
    "np.random.seed=rnd_seed\n",
    "np.random.set_state=rnd_seed"
   ]
  },
  {
   "cell_type": "markdown",
   "id": "fe730e34",
   "metadata": {},
   "source": [
    "# 3\n",
    "### Creating the Spark Session"
   ]
  },
  {
   "cell_type": "code",
   "execution_count": 6,
   "id": "95283825",
   "metadata": {},
   "outputs": [
    {
     "name": "stderr",
     "output_type": "stream",
     "text": [
      "23/10/26 12:47:39 WARN Utils: Your hostname, abel-Surface-Pro resolves to a loopback address: 127.0.1.1; using 172.17.0.1 instead (on interface docker0)\n",
      "23/10/26 12:47:39 WARN Utils: Set SPARK_LOCAL_IP if you need to bind to another address\n",
      "Setting default log level to \"WARN\".\n",
      "To adjust logging level use sc.setLogLevel(newLevel). For SparkR, use setLogLevel(newLevel).\n",
      "23/10/26 12:47:49 WARN NativeCodeLoader: Unable to load native-hadoop library for your platform... using builtin-java classes where applicable\n",
      "23/10/26 12:47:50 WARN Utils: Service 'SparkUI' could not bind on port 4040. Attempting port 4041.\n"
     ]
    },
    {
     "data": {
      "text/html": [
       "\n",
       "            <div>\n",
       "                <p><b>SparkSession - in-memory</b></p>\n",
       "                \n",
       "        <div>\n",
       "            <p><b>SparkContext</b></p>\n",
       "\n",
       "            <p><a href=\"http://172.17.0.1:4041\">Spark UI</a></p>\n",
       "\n",
       "            <dl>\n",
       "              <dt>Version</dt>\n",
       "                <dd><code>v3.4.1</code></dd>\n",
       "              <dt>Master</dt>\n",
       "                <dd><code>local[2]</code></dd>\n",
       "              <dt>AppName</dt>\n",
       "                <dd><code>Linear-Regression-California-Housing</code></dd>\n",
       "            </dl>\n",
       "        </div>\n",
       "        \n",
       "            </div>\n",
       "        "
      ],
      "text/plain": [
       "<pyspark.sql.session.SparkSession at 0x7f77819844c0>"
      ]
     },
     "execution_count": 6,
     "metadata": {},
     "output_type": "execute_result"
    }
   ],
   "source": [
    "spark = SparkSession.builder.master(\"local[2]\").appName(\"Linear-Regression-California-Housing\").getOrCreate()\n",
    "spark"
   ]
  },
  {
   "cell_type": "code",
   "execution_count": 7,
   "id": "93dc40d8",
   "metadata": {},
   "outputs": [
    {
     "data": {
      "text/html": [
       "\n",
       "        <div>\n",
       "            <p><b>SparkContext</b></p>\n",
       "\n",
       "            <p><a href=\"http://172.17.0.1:4041\">Spark UI</a></p>\n",
       "\n",
       "            <dl>\n",
       "              <dt>Version</dt>\n",
       "                <dd><code>v3.4.1</code></dd>\n",
       "              <dt>Master</dt>\n",
       "                <dd><code>local[2]</code></dd>\n",
       "              <dt>AppName</dt>\n",
       "                <dd><code>Linear-Regression-California-Housing</code></dd>\n",
       "            </dl>\n",
       "        </div>\n",
       "        "
      ],
      "text/plain": [
       "<SparkContext master=local[2] appName=Linear-Regression-California-Housing>"
      ]
     },
     "execution_count": 7,
     "metadata": {},
     "output_type": "execute_result"
    }
   ],
   "source": [
    "sc = spark.sparkContext\n",
    "sc"
   ]
  },
  {
   "cell_type": "code",
   "execution_count": 8,
   "id": "de9ff1f6",
   "metadata": {},
   "outputs": [
    {
     "name": "stderr",
     "output_type": "stream",
     "text": [
      "/home/patricia/miniconda3/envs/pyspark/lib/python3.8/site-packages/pyspark/sql/context.py:112: FutureWarning: Deprecated in 3.0.0. Use SparkSession.builder.getOrCreate() instead.\n",
      "  warnings.warn(\n"
     ]
    },
    {
     "data": {
      "text/plain": [
       "<pyspark.sql.context.SQLContext at 0x7f7781afb850>"
      ]
     },
     "execution_count": 8,
     "metadata": {},
     "output_type": "execute_result"
    }
   ],
   "source": [
    "sqlContext = SQLContext(spark.sparkContext)\n",
    "sqlContext"
   ]
  },
  {
   "cell_type": "markdown",
   "id": "e00cc169",
   "metadata": {},
   "source": [
    "# 4 \n",
    "### Load the data from a file into a DataFrame"
   ]
  },
  {
   "cell_type": "code",
   "execution_count": 16,
   "id": "35faa494",
   "metadata": {},
   "outputs": [],
   "source": [
    "# define the schema, corresponding to a line in the csv data file.\n",
    "schema = StructType([\n",
    "    StructField(\"long\", FloatType(), nullable=True),\n",
    "    StructField(\"lat\", FloatType(), nullable=True),\n",
    "    StructField(\"median_age\", FloatType(), nullable=True),\n",
    "    StructField(\"total_rooms\", FloatType(), nullable=True),\n",
    "    StructField(\"total_bdrms\", FloatType(), nullable=True),\n",
    "    StructField(\"population\", FloatType(), nullable=True),\n",
    "    StructField(\"houshlds\", FloatType(), nullable=True),\n",
    "    StructField(\"medinc\", FloatType(), nullable=True),\n",
    "    StructField(\"medhv\", FloatType(), nullable=True)]\n",
    ")"
   ]
  },
  {
   "cell_type": "code",
   "execution_count": 56,
   "id": "1ccac37a",
   "metadata": {},
   "outputs": [
    {
     "name": "stderr",
     "output_type": "stream",
     "text": [
      "23/10/26 15:35:53 WARN CacheManager: Asked to cache already cached data.\n"
     ]
    }
   ],
   "source": [
    "# Load housing data\n",
    "housing_df = spark.read.csv(path='./data/cal_housing.data', schema=schema).cache()\n"
   ]
  },
  {
   "cell_type": "code",
   "execution_count": 57,
   "id": "545b081b",
   "metadata": {},
   "outputs": [
    {
     "data": {
      "text/plain": [
       "[Row(long=-122.2300033569336, lat=37.880001068115234, median_age=41.0, total_rooms=880.0, total_bdrms=129.0, population=322.0, houshlds=126.0, medinc=8.325200080871582, medhv=452600.0),\n",
       " Row(long=-122.22000122070312, lat=37.86000061035156, median_age=21.0, total_rooms=7099.0, total_bdrms=1106.0, population=2401.0, houshlds=1138.0, medinc=8.301400184631348, medhv=358500.0),\n",
       " Row(long=-122.23999786376953, lat=37.849998474121094, median_age=52.0, total_rooms=1467.0, total_bdrms=190.0, population=496.0, houshlds=177.0, medinc=7.257400035858154, medhv=352100.0),\n",
       " Row(long=-122.25, lat=37.849998474121094, median_age=52.0, total_rooms=1274.0, total_bdrms=235.0, population=558.0, houshlds=219.0, medinc=5.643099784851074, medhv=341300.0),\n",
       " Row(long=-122.25, lat=37.849998474121094, median_age=52.0, total_rooms=1627.0, total_bdrms=280.0, population=565.0, houshlds=259.0, medinc=3.8461999893188477, medhv=342200.0)]"
      ]
     },
     "execution_count": 57,
     "metadata": {},
     "output_type": "execute_result"
    }
   ],
   "source": [
    "# Insepct first five rows\n",
    "housing_df.take(5)"
   ]
  },
  {
   "cell_type": "code",
   "execution_count": 58,
   "id": "40842f94",
   "metadata": {},
   "outputs": [
    {
     "name": "stdout",
     "output_type": "stream",
     "text": [
      "+-------+-----+----------+-----------+-----------+----------+--------+------+--------+\n",
      "|   long|  lat|median_age|total_rooms|total_bdrms|population|houshlds|medinc|   medhv|\n",
      "+-------+-----+----------+-----------+-----------+----------+--------+------+--------+\n",
      "|-122.23|37.88|      41.0|      880.0|      129.0|     322.0|   126.0|8.3252|452600.0|\n",
      "|-122.22|37.86|      21.0|     7099.0|     1106.0|    2401.0|  1138.0|8.3014|358500.0|\n",
      "|-122.24|37.85|      52.0|     1467.0|      190.0|     496.0|   177.0|7.2574|352100.0|\n",
      "|-122.25|37.85|      52.0|     1274.0|      235.0|     558.0|   219.0|5.6431|341300.0|\n",
      "|-122.25|37.85|      52.0|     1627.0|      280.0|     565.0|   259.0|3.8462|342200.0|\n",
      "+-------+-----+----------+-----------+-----------+----------+--------+------+--------+\n",
      "only showing top 5 rows\n",
      "\n"
     ]
    }
   ],
   "source": [
    "# Show first five rows\n",
    "housing_df.show(5)"
   ]
  },
  {
   "cell_type": "code",
   "execution_count": 59,
   "id": "d96a9e92",
   "metadata": {},
   "outputs": [
    {
     "data": {
      "text/plain": [
       "['long',\n",
       " 'lat',\n",
       " 'median_age',\n",
       " 'total_rooms',\n",
       " 'total_bdrms',\n",
       " 'population',\n",
       " 'houshlds',\n",
       " 'medinc',\n",
       " 'medhv']"
      ]
     },
     "execution_count": 59,
     "metadata": {},
     "output_type": "execute_result"
    }
   ],
   "source": [
    "# show the dataframe columns\n",
    "housing_df.columns"
   ]
  },
  {
   "cell_type": "code",
   "execution_count": 60,
   "id": "5d9bdb28",
   "metadata": {},
   "outputs": [
    {
     "name": "stdout",
     "output_type": "stream",
     "text": [
      "root\n",
      " |-- long: float (nullable = true)\n",
      " |-- lat: float (nullable = true)\n",
      " |-- median_age: float (nullable = true)\n",
      " |-- total_rooms: float (nullable = true)\n",
      " |-- total_bdrms: float (nullable = true)\n",
      " |-- population: float (nullable = true)\n",
      " |-- houshlds: float (nullable = true)\n",
      " |-- medinc: float (nullable = true)\n",
      " |-- medhv: float (nullable = true)\n",
      "\n"
     ]
    }
   ],
   "source": [
    "# show the schema of the dataframe\n",
    "housing_df.printSchema()"
   ]
  },
  {
   "cell_type": "markdown",
   "id": "f4bf3a86",
   "metadata": {},
   "source": [
    "# 5\n",
    "### Data Exploration"
   ]
  },
  {
   "cell_type": "code",
   "execution_count": 61,
   "id": "aed984a3",
   "metadata": {},
   "outputs": [
    {
     "name": "stdout",
     "output_type": "stream",
     "text": [
      "+----------+-----------+\n",
      "|population|total_bdrms|\n",
      "+----------+-----------+\n",
      "|     322.0|      129.0|\n",
      "|    2401.0|     1106.0|\n",
      "|     496.0|      190.0|\n",
      "|     558.0|      235.0|\n",
      "|     565.0|      280.0|\n",
      "|     413.0|      213.0|\n",
      "|    1094.0|      489.0|\n",
      "|    1157.0|      687.0|\n",
      "|    1206.0|      665.0|\n",
      "|    1551.0|      707.0|\n",
      "+----------+-----------+\n",
      "only showing top 10 rows\n",
      "\n"
     ]
    }
   ],
   "source": [
    "# run a sample selection\n",
    "housing_df.select('population','total_bdrms').show(10)"
   ]
  },
  {
   "cell_type": "markdown",
   "id": "7b474f54",
   "metadata": {},
   "source": [
    "#### 5.1 Distribution of the median age of the people living in the area:"
   ]
  },
  {
   "cell_type": "code",
   "execution_count": 62,
   "id": "fcf511c8",
   "metadata": {},
   "outputs": [],
   "source": [
    "# groupBy dt by median_age and see the distribution\n",
    "result_df = housing_df.groupBy('median_age').count().sort(\"median_age\",ascending = False)"
   ]
  },
  {
   "cell_type": "code",
   "execution_count": 63,
   "id": "8b557e45",
   "metadata": {},
   "outputs": [
    {
     "name": "stdout",
     "output_type": "stream",
     "text": [
      "+----------+-----+\n",
      "|median_age|count|\n",
      "+----------+-----+\n",
      "|      52.0| 1273|\n",
      "|      51.0|   48|\n",
      "|      50.0|  136|\n",
      "|      49.0|  134|\n",
      "|      48.0|  177|\n",
      "|      47.0|  198|\n",
      "|      46.0|  245|\n",
      "|      45.0|  294|\n",
      "|      44.0|  356|\n",
      "|      43.0|  353|\n",
      "+----------+-----+\n",
      "only showing top 10 rows\n",
      "\n"
     ]
    }
   ],
   "source": [
    "result_df.show(10)"
   ]
  },
  {
   "cell_type": "code",
   "execution_count": 27,
   "id": "c86547be",
   "metadata": {},
   "outputs": [
    {
     "data": {
      "text/plain": [
       "<Axes: xlabel='median_age'>"
      ]
     },
     "execution_count": 27,
     "metadata": {},
     "output_type": "execute_result"
    },
    {
     "data": {
      "image/png": "[encoded data removed]",
      "text/plain": [
       "<Figure size 1400x600 with 1 Axes>"
      ]
     },
     "metadata": {
      "image/png": {
       "height": 551,
       "width": 1157
      }
     },
     "output_type": "display_data"
    }
   ],
   "source": [
    "result_df.toPandas().plot.bar(x='median_age',figsize=(14,6))"
   ]
  },
  {
   "cell_type": "markdown",
   "id": "7c2b6a05",
   "metadata": {},
   "source": [
    "Most of the residents are either in their youth or they settle here during their senior years. Some data are showing median age < 10 which seems to be out of place."
   ]
  },
  {
   "cell_type": "markdown",
   "id": "80350d68",
   "metadata": {},
   "source": [
    "#### 5.2 Summary Statistics:"
   ]
  },
  {
   "cell_type": "code",
   "execution_count": 64,
   "id": "4de86a46",
   "metadata": {},
   "outputs": [
    {
     "name": "stdout",
     "output_type": "stream",
     "text": [
      "+-------+-------------------+-----------------+------------------+------------------+-----------------+------------------+-----------------+------------------+------------------+\n",
      "|summary|               long|              lat|        median_age|       total_rooms|      total_bdrms|        population|         houshlds|            medinc|             medhv|\n",
      "+-------+-------------------+-----------------+------------------+------------------+-----------------+------------------+-----------------+------------------+------------------+\n",
      "|  count|              20640|            20640|             20640|             20640|            20640|             20640|            20640|             20640|             20640|\n",
      "|   mean|-119.56970444871473|35.63186143109965|28.639486434108527|2635.7630813953488|537.8980135658915|1425.4767441860465|499.5396802325581|3.8706710030346416|206855.81690891474|\n",
      "| stddev|  2.003531742932898|2.135952380602968| 12.58555761211163|2181.6152515827944| 421.247905943133|  1132.46212176534|382.3297528316098|1.8998217183639696|115395.61587441359|\n",
      "|    min|            -124.35|            32.54|               1.0|               2.0|              1.0|               3.0|              1.0|            0.4999|           14999.0|\n",
      "|    max|            -114.31|            41.95|              52.0|           39320.0|           6445.0|           35682.0|           6082.0|           15.0001|          500001.0|\n",
      "+-------+-------------------+-----------------+------------------+------------------+-----------------+------------------+-----------------+------------------+------------------+\n",
      "\n"
     ]
    }
   ],
   "source": [
    "housing_df.describe().show()"
   ]
  },
  {
   "cell_type": "code",
   "execution_count": 65,
   "id": "b8c61808",
   "metadata": {},
   "outputs": [
    {
     "name": "stdout",
     "output_type": "stream",
     "text": [
      "+-------+----------+-----------+-----------+----------+--------+-------+-----------+\n",
      "|summary|median_age|total_rooms|total_bdrms|population|houshlds| medinc|      medhv|\n",
      "+-------+----------+-----------+-----------+----------+--------+-------+-----------+\n",
      "|  count|   20640.0|    20640.0|    20640.0|   20640.0| 20640.0|20640.0|    20640.0|\n",
      "|   mean|   28.6395|  2635.7631|    537.898| 1425.4767|499.5397| 3.8707|206855.8169|\n",
      "| stddev|   12.5856|  2181.6153|   421.2479| 1132.4621|382.3298| 1.8998|115395.6159|\n",
      "|    min|       1.0|        2.0|        1.0|       3.0|     1.0| 0.4999|    14999.0|\n",
      "|    max|      52.0|    39320.0|     6445.0|   35682.0|  6082.0|15.0001|   500001.0|\n",
      "+-------+----------+-----------+-----------+----------+--------+-------+-----------+\n",
      "\n"
     ]
    }
   ],
   "source": [
    "housing_df.describe().select(\n",
    "    \"summary\",\n",
    "    F.round(\"median_age\",4).alias('median_age'),\n",
    "    F.round('total_rooms',4).alias('total_rooms'),\n",
    "    F.round('total_bdrms',4).alias('total_bdrms'),\n",
    "    F.round('population',4).alias('population'),\n",
    "    F.round(\"houshlds\", 4).alias(\"houshlds\"),\n",
    "    F.round(\"medinc\", 4).alias(\"medinc\"),\n",
    "    F.round(\"medhv\", 4).alias(\"medhv\")\n",
    ").show()\n"
   ]
  },
  {
   "cell_type": "markdown",
   "id": "2fd73cc7",
   "metadata": {},
   "source": [
    "Look at the minimum and maximum values of all the (numerical) attributes. We see that multiple attributes have a wide range of values: we will need to normalize your dataset."
   ]
  },
  {
   "cell_type": "markdown",
   "id": "950c87db",
   "metadata": {},
   "source": [
    "# 6\n",
    "### Data Preprocessing\n",
    "\n",
    "#### 6.1 Preprocessing The Target Values"
   ]
  },
  {
   "cell_type": "markdown",
   "id": "01f14699",
   "metadata": {},
   "source": [
    "First, let's start with the `medianHouseValue`, our dependent variable. To facilitate our working with the target values, we will express the house values in units of 100,000. That means that a target such as 452600.000000 should become 4.526:"
   ]
  },
  {
   "cell_type": "code",
   "execution_count": 66,
   "id": "ac459453",
   "metadata": {},
   "outputs": [
    {
     "name": "stdout",
     "output_type": "stream",
     "text": [
      "+-------+-----+----------+-----------+-----------+----------+--------+------+-----+\n",
      "|   long|  lat|median_age|total_rooms|total_bdrms|population|houshlds|medinc|medhv|\n",
      "+-------+-----+----------+-----------+-----------+----------+--------+------+-----+\n",
      "|-122.23|37.88|      41.0|      880.0|      129.0|     322.0|   126.0|8.3252|4.526|\n",
      "|-122.22|37.86|      21.0|     7099.0|     1106.0|    2401.0|  1138.0|8.3014|3.585|\n",
      "+-------+-----+----------+-----------+-----------+----------+--------+------+-----+\n",
      "only showing top 2 rows\n",
      "\n"
     ]
    }
   ],
   "source": [
    "housing_df = housing_df.withColumn(\"medhv\",col(\"medhv\")/100000)\n",
    "housing_df.show(2)"
   ]
  },
  {
   "cell_type": "code",
   "execution_count": 67,
   "id": "a119500b",
   "metadata": {},
   "outputs": [
    {
     "name": "stdout",
     "output_type": "stream",
     "text": [
      "+----+---+----------+-----------+-----------+----------+--------+------+-----+\n",
      "|long|lat|median_age|total_rooms|total_bdrms|population|houshlds|medinc|medhv|\n",
      "+----+---+----------+-----------+-----------+----------+--------+------+-----+\n",
      "|   0|  0|         0|          0|          0|         0|       0|     0|    0|\n",
      "+----+---+----------+-----------+-----------+----------+--------+------+-----+\n",
      "\n"
     ]
    }
   ],
   "source": [
    "from pyspark.sql.functions import col,isnan,when,count\n",
    "df_Columns = housing_df.columns\n",
    "housing_df.select([count(when(isnan(c) | col(c).isNull(), c)).alias(c) for c in df_Columns]\n",
    "   ).show()"
   ]
  },
  {
   "cell_type": "markdown",
   "id": "bba96f66",
   "metadata": {},
   "source": [
    "# 7\n",
    "### Feature Engineering"
   ]
  },
  {
   "cell_type": "markdown",
   "id": "44b5ef0c",
   "metadata": {},
   "source": [
    "Now that we have adjusted the values in medianHouseValue, we will now add the following columns to the data set:\n",
    "\n",
    "- Rooms per household which refers to the number of rooms in households per block group;\n",
    "- Population per household, which basically gives us an indication of how many people live in households per block group; And\n",
    "- Bedrooms per room which will give us an idea about how many rooms are bedrooms per block group;\n",
    "\n",
    "As we're working with DataFrames, we can best use the `select()` method to select the columns that we're going to be working with, namely `totalRooms`, `households`, and `population`. Additionally, we have to indicate that we're working with columns by adding the col() function to our code. Otherwise, we won't be able to do element-wise operations like the division that we have in mind for these three variables:"
   ]
  },
  {
   "cell_type": "code",
   "execution_count": 68,
   "id": "2241e2e8",
   "metadata": {},
   "outputs": [
    {
     "data": {
      "text/plain": [
       "['long',\n",
       " 'lat',\n",
       " 'median_age',\n",
       " 'total_rooms',\n",
       " 'total_bdrms',\n",
       " 'population',\n",
       " 'houshlds',\n",
       " 'medinc',\n",
       " 'medhv']"
      ]
     },
     "execution_count": 68,
     "metadata": {},
     "output_type": "execute_result"
    }
   ],
   "source": [
    "housing_df.columns"
   ]
  },
  {
   "cell_type": "code",
   "execution_count": 69,
   "id": "41d5667b",
   "metadata": {},
   "outputs": [],
   "source": [
    "# Add the new columns to df\n",
    "housing_df = (\n",
    "    housing_df.withColumn(\"rooms_per_hs\", F.round(col(\"total_rooms\")/col(\"houshlds\"),2))\n",
    "    .withColumn(\"population_per_hs\", F.round(col(\"population\")/col(\"houshlds\"),2))\n",
    "    .withColumn(\"bedrooms_per_rooms\", F.round(col(\"total_bdrms\")/col(\"total_rooms\"),2))\n",
    ")"
   ]
  },
  {
   "cell_type": "code",
   "execution_count": 70,
   "id": "f5550356",
   "metadata": {},
   "outputs": [
    {
     "name": "stdout",
     "output_type": "stream",
     "text": [
      "+-------+-----+----------+-----------+-----------+----------+--------+------+-----+------------+-----------------+------------------+\n",
      "|   long|  lat|median_age|total_rooms|total_bdrms|population|houshlds|medinc|medhv|rooms_per_hs|population_per_hs|bedrooms_per_rooms|\n",
      "+-------+-----+----------+-----------+-----------+----------+--------+------+-----+------------+-----------------+------------------+\n",
      "|-122.23|37.88|      41.0|      880.0|      129.0|     322.0|   126.0|8.3252|4.526|        6.98|             2.56|              0.15|\n",
      "|-122.22|37.86|      21.0|     7099.0|     1106.0|    2401.0|  1138.0|8.3014|3.585|        6.24|             2.11|              0.16|\n",
      "|-122.24|37.85|      52.0|     1467.0|      190.0|     496.0|   177.0|7.2574|3.521|        8.29|              2.8|              0.13|\n",
      "|-122.25|37.85|      52.0|     1274.0|      235.0|     558.0|   219.0|5.6431|3.413|        5.82|             2.55|              0.18|\n",
      "|-122.25|37.85|      52.0|     1627.0|      280.0|     565.0|   259.0|3.8462|3.422|        6.28|             2.18|              0.17|\n",
      "+-------+-----+----------+-----------+-----------+----------+--------+------+-----+------------+-----------------+------------------+\n",
      "only showing top 5 rows\n",
      "\n"
     ]
    }
   ],
   "source": [
    "housing_df.show(5)\n"
   ]
  },
  {
   "cell_type": "markdown",
   "id": "5d90fb8f",
   "metadata": {},
   "source": [
    "We can see that, for the first row, there are about 6.98 rooms per household, the households in the block group consist of about 2.5 people and the amount of bedrooms is quite low with 0.14:\n",
    "\n",
    "Since we don't want to necessarily standardize our target values, we'll want to make sure to isolate those in our data set. Note also that this is the time to leave out variables that we might not want to consider in our analysis. In this case, let's leave out variables such as longitude, latitude, housingMedianAge and totalRooms.\n",
    "\n",
    "In this case, we will use the `select()` method and passing the column names in the order that is more appropriate. In this case, the target variable medianHouseValue is put first, so that it won't be affected by the standardization."
   ]
  },
  {
   "cell_type": "code",
   "execution_count": 71,
   "id": "139e6547",
   "metadata": {},
   "outputs": [
    {
     "data": {
      "text/plain": [
       "['long',\n",
       " 'lat',\n",
       " 'median_age',\n",
       " 'total_rooms',\n",
       " 'total_bdrms',\n",
       " 'population',\n",
       " 'houshlds',\n",
       " 'medinc',\n",
       " 'medhv',\n",
       " 'rooms_per_hs',\n",
       " 'population_per_hs',\n",
       " 'bedrooms_per_rooms']"
      ]
     },
     "execution_count": 71,
     "metadata": {},
     "output_type": "execute_result"
    }
   ],
   "source": [
    "housing_df.columns"
   ]
  },
  {
   "cell_type": "code",
   "execution_count": 72,
   "id": "d020720f",
   "metadata": {},
   "outputs": [],
   "source": [
    "# Re-order and select columns\n",
    "housing_df = housing_df.select(\"medhv\",\n",
    "                               \"total_bdrms\",\n",
    "                               \"population\",\n",
    "                               \"houshlds\",\n",
    "                               \"medinc\",\n",
    "                               \"rooms_per_hs\",\n",
    "                               \"population_per_hs\",\n",
    "                               \"bedrooms_per_rooms\"\n",
    "                              )"
   ]
  },
  {
   "cell_type": "code",
   "execution_count": 73,
   "id": "26e2bd21",
   "metadata": {},
   "outputs": [
    {
     "name": "stdout",
     "output_type": "stream",
     "text": [
      "+-----+-----------+----------+--------+------+------------+-----------------+------------------+\n",
      "|medhv|total_bdrms|population|houshlds|medinc|rooms_per_hs|population_per_hs|bedrooms_per_rooms|\n",
      "+-----+-----------+----------+--------+------+------------+-----------------+------------------+\n",
      "|4.526|      129.0|     322.0|   126.0|8.3252|        6.98|             2.56|              0.15|\n",
      "|3.585|     1106.0|    2401.0|  1138.0|8.3014|        6.24|             2.11|              0.16|\n",
      "|3.521|      190.0|     496.0|   177.0|7.2574|        8.29|              2.8|              0.13|\n",
      "+-----+-----------+----------+--------+------+------------+-----------------+------------------+\n",
      "only showing top 3 rows\n",
      "\n"
     ]
    }
   ],
   "source": [
    "housing_df.show(3)"
   ]
  },
  {
   "cell_type": "markdown",
   "id": "012e0f96",
   "metadata": {},
   "source": [
    "#### 7.1 Feature Extraction"
   ]
  },
  {
   "cell_type": "code",
   "execution_count": 74,
   "id": "8c8a1975",
   "metadata": {},
   "outputs": [],
   "source": [
    "featureCols = [\"total_bdrms\",\"population\",\"houshlds\",\"medinc\",\"rooms_per_hs\",\"population_per_hs\",\n",
    "               \"bedrooms_per_rooms\"]"
   ]
  },
  {
   "cell_type": "markdown",
   "id": "85ec37d8",
   "metadata": {},
   "source": [
    "#### Use a VectorAssembler to put features into a feature vector column:"
   ]
  },
  {
   "cell_type": "code",
   "execution_count": 75,
   "id": "b87a39fb",
   "metadata": {},
   "outputs": [],
   "source": [
    "# put features into a feature vector column\n",
    "assembler = VectorAssembler(inputCols=featureCols, outputCol=\"features\")"
   ]
  },
  {
   "cell_type": "code",
   "execution_count": 76,
   "id": "8ccb88e6",
   "metadata": {},
   "outputs": [],
   "source": [
    "assembler_df = assembler.transform(housing_df)"
   ]
  },
  {
   "cell_type": "code",
   "execution_count": 77,
   "id": "cf40f2c1",
   "metadata": {},
   "outputs": [
    {
     "name": "stdout",
     "output_type": "stream",
     "text": [
      "+-----+-----------+----------+--------+------+------------+-----------------+------------------+-------------------------------------------------------+\n",
      "|medhv|total_bdrms|population|houshlds|medinc|rooms_per_hs|population_per_hs|bedrooms_per_rooms|features                                               |\n",
      "+-----+-----------+----------+--------+------+------------+-----------------+------------------+-------------------------------------------------------+\n",
      "|4.526|129.0      |322.0     |126.0   |8.3252|6.98        |2.56             |0.15              |[129.0,322.0,126.0,8.325200080871582,6.98,2.56,0.15]   |\n",
      "|3.585|1106.0     |2401.0    |1138.0  |8.3014|6.24        |2.11             |0.16              |[1106.0,2401.0,1138.0,8.301400184631348,6.24,2.11,0.16]|\n",
      "|3.521|190.0      |496.0     |177.0   |7.2574|8.29        |2.8              |0.13              |[190.0,496.0,177.0,7.257400035858154,8.29,2.8,0.13]    |\n",
      "|3.413|235.0      |558.0     |219.0   |5.6431|5.82        |2.55             |0.18              |[235.0,558.0,219.0,5.643099784851074,5.82,2.55,0.18]   |\n",
      "|3.422|280.0      |565.0     |259.0   |3.8462|6.28        |2.18             |0.17              |[280.0,565.0,259.0,3.8461999893188477,6.28,2.18,0.17]  |\n",
      "|2.697|213.0      |413.0     |193.0   |4.0368|4.76        |2.14             |0.23              |[213.0,413.0,193.0,4.036799907684326,4.76,2.14,0.23]   |\n",
      "|2.992|489.0      |1094.0    |514.0   |3.6591|4.93        |2.13             |0.19              |[489.0,1094.0,514.0,3.65910005569458,4.93,2.13,0.19]   |\n",
      "|2.414|687.0      |1157.0    |647.0   |3.12  |4.8         |1.79             |0.22              |[687.0,1157.0,647.0,3.119999885559082,4.8,1.79,0.22]   |\n",
      "|2.267|665.0      |1206.0    |595.0   |2.0804|4.29        |2.03             |0.26              |[665.0,1206.0,595.0,2.080399990081787,4.29,2.03,0.26]  |\n",
      "|2.611|707.0      |1551.0    |714.0   |3.6912|4.97        |2.17             |0.2               |[707.0,1551.0,714.0,3.691200017929077,4.97,2.17,0.2]   |\n",
      "+-----+-----------+----------+--------+------+------------+-----------------+------------------+-------------------------------------------------------+\n",
      "only showing top 10 rows\n",
      "\n"
     ]
    }
   ],
   "source": [
    "assembler_df.show(10, truncate = False)"
   ]
  },
  {
   "cell_type": "markdown",
   "id": "3adecace",
   "metadata": {},
   "source": [
    "#### 7.2 Standardization\n",
    "\n",
    "Next, we can finally scale the data using `StandardScaler`. The input columns are the `features`, and the output column with the rescaled that will be included in the scaled_df will be named `\"features_scaled\"`:\n",
    "\n"
   ]
  },
  {
   "cell_type": "code",
   "execution_count": 79,
   "id": "a7107e91",
   "metadata": {},
   "outputs": [],
   "source": [
    "# Initialize the standardScaler\n",
    "standardScaler = StandardScaler(inputCol=\"features\",outputCol=\"features_scaled\")"
   ]
  },
  {
   "cell_type": "code",
   "execution_count": 81,
   "id": "363fd307",
   "metadata": {},
   "outputs": [],
   "source": [
    "# Fit the DataFrame to the scaler\n",
    "scaled_df = standardScaler.fit(assembler_df).transform(assembler_df)"
   ]
  },
  {
   "cell_type": "code",
   "execution_count": 82,
   "id": "c0321c30",
   "metadata": {
    "scrolled": true
   },
   "outputs": [
    {
     "name": "stdout",
     "output_type": "stream",
     "text": [
      "+-------------------------------------------------------+--------------------------------------------------------------------------------------------------------------------------------------+\n",
      "|features                                               |features_scaled                                                                                                                       |\n",
      "+-------------------------------------------------------+--------------------------------------------------------------------------------------------------------------------------------------+\n",
      "|[129.0,322.0,126.0,8.325200080871582,6.98,2.56,0.15]   |[0.30623297630686513,0.2843362208866199,0.3295584480852433,4.38209543579743,2.8211223886115664,0.24648542140099877,2.5828740130262697]|\n",
      "|[1106.0,2401.0,1138.0,8.301400184631348,6.24,2.11,0.16]|[2.6255323394991694,2.1201592122632746,2.9764882057222772,4.36956799913841,2.522034914747303,0.20315790592035446,2.755065613894688]   |\n",
      "|[190.0,496.0,177.0,7.257400035858154,8.29,2.8,0.13]    |[0.451040817816313,0.4379837439744208,0.4629511532626037,3.820042673324032,3.3505880518037077,0.2695934296573424,2.238490811289434]   |\n",
      "|[235.0,558.0,219.0,5.643099784851074,5.82,2.55,0.18]   |[0.557866274667545,0.4927317119712234,0.5728039692910182,2.970331231769803,2.3522825647162344,0.2455225877236511,3.099448815631524]   |\n",
      "|[280.0,565.0,259.0,3.8461999893188477,6.28,2.18,0.17]  |[0.664691731518777,0.4989129341644108,0.6774256988418891,2.024505748166202,2.538201805226452,0.20989774166178804,2.9272572147631064]  |\n",
      "|[213.0,413.0,193.0,4.036799907684326,4.76,2.14,0.23]   |[0.5056404957624983,0.364692109398056,0.5047998450829521,2.124830908428931,1.9238599670187757,0.20604640695239743,3.960406819973614]  |\n",
      "|[489.0,1094.0,514.0,3.65910005569458,4.93,2.13,0.19]   |[1.1608366311167213,0.9660367256210006,1.344389224728691,1.9260228580003875,1.9925692515551605,0.20508357327504975,3.271640416499942] |\n",
      "|[687.0,1157.0,647.0,3.119999885559082,4.8,1.79,0.22]   |[1.6308686412621423,1.021667725359687,1.6922564754853369,1.6422593001231023,1.9400268574979251,0.1723472282452296,3.788215219105196]  |\n",
      "|[665.0,1206.0,595.0,2.080399990081787,4.29,2.03,0.26]  |[1.5786428623570954,1.0649362807119989,1.5562482270692046,1.0950501144251168,1.7338990038887707,0.19545523650157323,4.476981622578868]|\n",
      "|[707.0,1551.0,714.0,3.691200017929077,4.97,2.17,0.2]   |[1.678346622084912,1.3695822316619488,1.8674978724830456,1.9429191603871925,2.00873614203431,0.20893490798444037,3.44383201736836]    |\n",
      "+-------------------------------------------------------+--------------------------------------------------------------------------------------------------------------------------------------+\n",
      "only showing top 10 rows\n",
      "\n"
     ]
    }
   ],
   "source": [
    "scaled_df.select(\n",
    "    \"features\",\n",
    "    \"features_scaled\"\n",
    ").show(10, truncate = False)"
   ]
  },
  {
   "cell_type": "markdown",
   "id": "d1895a5e",
   "metadata": {},
   "source": [
    "# 8\n",
    "### Building A Machine Learning Model With Spark ML\n",
    "\n",
    "With all the preprocessing done, it's finally time to start building our Linear Regression model! Just like always, we first need to split the data into training and test sets. Luckily, this is no issue with the `randomSplit()` method:"
   ]
  },
  {
   "cell_type": "code",
   "execution_count": 84,
   "id": "a8fc7d63",
   "metadata": {},
   "outputs": [],
   "source": [
    "train_data, test_data = scaled_df.randomSplit([.8,.2], seed = rnd_seed)"
   ]
  },
  {
   "cell_type": "code",
   "execution_count": 85,
   "id": "29abdf06",
   "metadata": {},
   "outputs": [
    {
     "data": {
      "text/plain": [
       "['medhv',\n",
       " 'total_bdrms',\n",
       " 'population',\n",
       " 'houshlds',\n",
       " 'medinc',\n",
       " 'rooms_per_hs',\n",
       " 'population_per_hs',\n",
       " 'bedrooms_per_rooms',\n",
       " 'features',\n",
       " 'features_scaled']"
      ]
     },
     "execution_count": 85,
     "metadata": {},
     "output_type": "execute_result"
    }
   ],
   "source": [
    "train_data.columns"
   ]
  },
  {
   "cell_type": "markdown",
   "id": "ef874b82",
   "metadata": {},
   "source": [
    "ElasticNet is a linear regression model trained with L1 and L2 prior as regularizer. This combination allows for learning a sparse model where few of the weights are non-zero like Lasso, while still maintaining the regularization properties of Ridge. We control the convex combination of L1 and L2 using the l1_ratio parameter.\n",
    "\n",
    "Elastic-net is useful when there are multiple features which are correlated with one another. Lasso is likely to pick one of these at random, while elastic-net is likely to pick both.\n",
    "\n",
    "A practical advantage of trading-off between Lasso and Ridge is it allows Elastic-Net to inherit some of Ridge’s stability under rotation.\n",
    "\n",
    "![img](./img/house2.png)\n",
    " \n",
    "http://scikit-learn.org/stable/modules/linear_model.html#elastic-net\n",
    "\n"
   ]
  },
  {
   "cell_type": "code",
   "execution_count": 86,
   "id": "0f024afb",
   "metadata": {},
   "outputs": [],
   "source": [
    "lr = (LinearRegression(featuresCol='features_scaled',labelCol=\"medhv\",predictionCol='predmedhv',\n",
    "                      maxIter = 10, regParam = 0.3, elasticNetParam = 0.8,standardization = False))"
   ]
  },
  {
   "cell_type": "code",
   "execution_count": 87,
   "id": "c72a5295",
   "metadata": {},
   "outputs": [
    {
     "name": "stderr",
     "output_type": "stream",
     "text": [
      "\r",
      "[Stage 57:>                                                         (0 + 1) / 1]\r",
      "23/10/26 16:20:47 WARN InstanceBuilder: Failed to load implementation from:dev.ludovic.netlib.blas.JNIBLAS\n",
      "\r",
      "                                                                                \r"
     ]
    }
   ],
   "source": [
    "linearModel = lr.fit(train_data)"
   ]
  },
  {
   "cell_type": "markdown",
   "id": "3f76ddbb",
   "metadata": {},
   "source": [
    "# 9\n",
    "### Inspect the Model Co-efficients"
   ]
  },
  {
   "cell_type": "code",
   "execution_count": 88,
   "id": "5d9c4347",
   "metadata": {},
   "outputs": [
    {
     "data": {
      "text/plain": [
       "DenseVector([0.0, 0.0, 0.0, 0.5262, 0.0, 0.0, 0.0])"
      ]
     },
     "execution_count": 88,
     "metadata": {},
     "output_type": "execute_result"
    }
   ],
   "source": [
    "linearModel.coefficients"
   ]
  },
  {
   "cell_type": "code",
   "execution_count": null,
   "id": "555ab2ed",
   "metadata": {},
   "outputs": [],
   "source": []
  },
  {
   "cell_type": "code",
   "execution_count": null,
   "id": "ff65c207",
   "metadata": {},
   "outputs": [],
   "source": []
  },
  {
   "cell_type": "code",
   "execution_count": null,
   "id": "c870885a",
   "metadata": {},
   "outputs": [],
   "source": []
  },
  {
   "cell_type": "code",
   "execution_count": null,
   "id": "d0bf69ec",
   "metadata": {},
   "outputs": [],
   "source": []
  },
  {
   "cell_type": "code",
   "execution_count": null,
   "id": "b0f488f3",
   "metadata": {},
   "outputs": [],
   "source": []
  },
  {
   "cell_type": "code",
   "execution_count": null,
   "id": "3be35236",
   "metadata": {},
   "outputs": [],
   "source": []
  },
  {
   "cell_type": "code",
   "execution_count": null,
   "id": "a931f5b3",
   "metadata": {},
   "outputs": [],
   "source": []
  }
 ],
 "metadata": {
  "kernelspec": {
   "display_name": "Python 3 (ipykernel)",
   "language": "python",
   "name": "python3"
  },
  "language_info": {
   "codemirror_mode": {
    "name": "ipython",
    "version": 3
   },
   "file_extension": ".py",
   "mimetype": "text/x-python",
   "name": "python",
   "nbconvert_exporter": "python",
   "pygments_lexer": "ipython3",
   "version": "3.8.18"
  }
 },
 "nbformat": 4,
 "nbformat_minor": 5
}
